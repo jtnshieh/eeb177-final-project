{
 "cells": [
  {
   "cell_type": "code",
   "execution_count": 9,
   "metadata": {
    "collapsed": true
   },
   "outputs": [],
   "source": [
    "def make_dolphin_dictionary(filename):\n",
    "    dolphin_dictionary = {}\n",
    "    fobj = open(filename,\"r\", encoding = \"ISO-8859-15\")\n",
    "    all_records = fobj.readlines()[1:]\n",
    "    for line in all_records:\n",
    "        record_elements = line.split(\",\")\n",
    "        species = record_elements[0]\n",
    "        era = record_elements[1]\n",
    "        dolphin_dictionary[species] = era\n",
    "    return dolphin_dictionary"
   ]
  },
  {
   "cell_type": "code",
   "execution_count": 10,
   "metadata": {
    "collapsed": false
   },
   "outputs": [
    {
     "data": {
      "text/plain": [
       "{'\"\"\"Delphinus\"\" n. sp. rikuzenensis\"': '\"Early Pliocene\"\\n',\n",
       " '\"\"\"Steno\"\" cudmorei\"': '\"Messinian\"\\n',\n",
       " '\"Astadelphis gastaldii\"': '\"Zanclean\"\\n',\n",
       " '\"Cephalorhynchus commersoni\"': '\"Holocene\"\\n',\n",
       " '\"Cephalorhynchus eutropia\"': '\"Holocene\"\\n',\n",
       " '\"Cephalorhynchus heavisidii\"': '\"Holocene\"\\n',\n",
       " '\"Delphinus (Grampus) n. sp. heavisidei\"': '\"Holocene\"\\n',\n",
       " '\"Delphinus (Phocaena) n. sp. uncidens\"': '\"Late Pliocene\"\\n',\n",
       " '\"Delphinus (Steno) n. sp. lentiginosus\"': '\"Holocene\"\\n',\n",
       " '\"Delphinus aff. delphis\"': '\"Waipipian\"\\n',\n",
       " '\"Delphinus brocchii\"': '\"Piacenzian\"\\n',\n",
       " '\"Delphinus delphis\"': '\"Holocene\"\\n',\n",
       " '\"Delphinus domeykoi\"': '\"Middle Miocene\"\\n',\n",
       " '\"Delphinus n. sp. aduncus\"': '\"Holocene\"\\n',\n",
       " '\"Delphinus n. sp. brocchii\"': '\"Piacenzian\"\\n',\n",
       " '\"Delphinus n. sp. coeruleoalbus\"': '\"Holocene\"\\n',\n",
       " '\"Delphinus n. sp. cortesii\"': '\"Zanclean\"\\n',\n",
       " '\"Delphinus n. sp. domeykoi\"': '\"Zanclean\"\\n',\n",
       " '\"Delphinus n. sp. eutropia\"': '\"Holocene\"\\n',\n",
       " '\"Delphinus n. sp. fluviatilis\"': '\"Holocene\"\\n',\n",
       " '\"Delphinus n. sp. frontalis\"': '\"Holocene\"\\n',\n",
       " '\"Delphinus n. sp. globiceps\"': '\"Holocene\"\\n',\n",
       " '\"Delphinus n. sp. griseus\"': '\"Holocene\"\\n',\n",
       " '\"Delphinus n. sp. guianensis\"': '\"Holocene\"\\n',\n",
       " '\"Delphinus n. sp. karsteni\"': '\"Neogene\"\\n',\n",
       " '\"Delphinus n. sp. melas\"': '\"Holocene\"\\n',\n",
       " '\"Delphinus n. sp. plumbeus\"': '\"Holocene\"\\n',\n",
       " '\"Delphinus n. sp. truncatus\"': '\"Holocene\"\\n',\n",
       " '\"Delphinus n. sp. tursio\"': '\"Holocene\"\\n',\n",
       " '\"Eudelphinus compressus\"': '\"Pliocene\"\\n',\n",
       " '\"Feresa attenuata\"': '\"Holocene\"\\n',\n",
       " '\"Globicephala macrorhyncha\"': '\"Pleistocene\"\\n',\n",
       " '\"Globicephala macrorhynchus\"': '\"Holocene\"\\n',\n",
       " '\"Globicephala melas\"': '\"Holocene\"\\n',\n",
       " '\"Globicephala n. sp. etruriae\"': '\"Piacenzian\"\\n',\n",
       " '\"Globicephalus n. sp. baereckeii\"': '\"Calabrian\"\\n',\n",
       " '\"Globicephalus uncidens\"': '\"Gelasian\"\\n',\n",
       " '\"Grampus griseus\"': '\"Holocene\"\\n',\n",
       " '\"Hemisyntrachelus cortesii\"': '\"Piacenzian\"\\n',\n",
       " '\"Hemisyntrachelus n. sp. pisanus\"': '\"Piacenzian\"\\n',\n",
       " '\"Lagenodelphis hosei\"': '\"Holocene\"\\n',\n",
       " '\"Lagenodelphis n. sp. hosei\"': '\"Holocene\"\\n',\n",
       " '\"Lagenorhynchus acutus\"': '\"Gelasian\"\\n',\n",
       " '\"Lagenorhynchus albirostris\"': '\"Holocene\"\\n',\n",
       " '\"Lagenorhynchus australis\"': '\"Holocene\"\\n',\n",
       " '\"Lagenorhynchus cruciger\"': '\"Holocene\"\\n',\n",
       " '\"Lagenorhynchus n. sp. harmatuki\"': '\"Zanclean\"\\n',\n",
       " '\"Lagenorhynchus n. sp. obliquidens\"': '\"Holocene\"\\n',\n",
       " '\"Lagenorhynchus obliquidens\"': '\"Holocene\"\\n',\n",
       " '\"Leucopleurus acutus\"': '\"Holocene\"\\n',\n",
       " '\"Lissodelphis borealis\"': '\"Holocene\"\\n',\n",
       " '\"Lissodelphis n. sp. borealis\"': '\"Holocene\"\\n',\n",
       " '\"Lissodelphis n. sp. peronii\"': '\"Holocene\"\\n',\n",
       " '\"Lissodelphis peronii\"': '\"Holocene\"\\n',\n",
       " '\"Orca (Orcaella) n. sp. brevirostris\"': '\"Holocene\"\\n',\n",
       " '\"Orca citoniensis\"': '\"Gelasian\"\\n',\n",
       " '\"Orca gladiator\"': '\"Early Pleistocene\"\\n',\n",
       " '\"Orca n. sp. citoniensis\"': '\"Piacenzian\"\\n',\n",
       " '\"Orca n. sp. paleorca\"': '\"Calabrian\"\\n',\n",
       " '\"Orca paleorca\"': '\"Early Pleistocene\"\\n',\n",
       " '\"Orcaella brevirostris\"': '\"Holocene\"\\n',\n",
       " '\"Orcaella heinsohni\"': '\"Holocene\"\\n',\n",
       " '\"Orcaella n. sp. heinsohni\"': '\"Holocene\"\\n',\n",
       " '\"Orcinus citoniensis\"': '\"Pliocene\"\\n',\n",
       " '\"Orcinus orca\"': '\"Holocene\"\\n',\n",
       " '\"Peponocephala electra\"': '\"Holocene\"\\n',\n",
       " '\"Phocaena n. sp. crassidens\"': '\"Late Pleistocene\"\\n',\n",
       " '\"Prodelphinus n. sp. graffmani\"': '\"Holocene\"\\n',\n",
       " '\"Pseudorca crassidens\"': '\"Holocene\"\\n',\n",
       " '\"Pseudorca n. sp. yokoyamai\"': '\"Calabrian\"\\n',\n",
       " '\"Pseudorca n. sp. yuanliensis\"': '\"Piacenzian\"\\n',\n",
       " '\"Pseudorca yokoyamai\"': '\"Early Pleistocene\"\\n',\n",
       " '\"Sotalia guianensis\"': '\"Holocene\"\\n',\n",
       " '\"Sotalia n. sp. borneensis\"': '\"Holocene\"\\n',\n",
       " '\"Sotalia n. sp. brasiliensis\"': '\"Holocene\"\\n',\n",
       " '\"Sotalia n. sp. chinensis\"': '\"Holocene\"\\n',\n",
       " '\"Sotalia n. sp. teuszii\"': '\"Holocene\"\\n',\n",
       " '\"Sousa chinensis\"': '\"Holocene\"\\n',\n",
       " '\"Sousa n. sp. sahulensis\"': '\"Holocene\"\\n',\n",
       " '\"Sousa teuszii\"': '\"Holocene\"\\n',\n",
       " '\"Stenella attenuata\"': '\"Holocene\"\\n',\n",
       " '\"Stenella giulii\"': '\"Pliocene\"\\n',\n",
       " '\"Stenella longirostris\"': '\"Holocene\"\\n',\n",
       " '\"Stenella n. sp. kabatensis\"': '\"Late Miocene\"\\n',\n",
       " '\"Stenella n. sp. pernettyi\"': '\"Holocene\"\\n',\n",
       " '\"Stenella n. sp. rayi\"': '\"Zanclean\"\\n',\n",
       " '\"Steno bellardii\"': '\"Piacenzian\"\\n',\n",
       " '\"Steno bredanensis\"': '\"Holocene\"\\n',\n",
       " '\"Tursiops aduncus\"': '\"Holocene\"\\n',\n",
       " '\"Tursiops brocchii\"': '\"Pliocene\"\\n',\n",
       " '\"Tursiops capellinii\"': '\"Piacenzian\"\\n',\n",
       " '\"Tursiops cf. miocaenus\"': '\"Serravallian\"\\n',\n",
       " '\"Tursiops cf. truncatus\"': '\"Pleistocene\"\\n',\n",
       " '\"Tursiops cortesii\"': '\"Piacenzian\"\\n',\n",
       " '\"Tursiops maugeanus\"': '\"Holocene\"\\n',\n",
       " '\"Tursiops n. sp. capellinii\"': '\"Zanclean\"\\n',\n",
       " '\"Tursiops n. sp. gilli\"': '\"Holocene\"\\n',\n",
       " '\"Tursiops n. sp. miocaenus\"': '\"Burdigalian\"\\n',\n",
       " '\"Tursiops n. sp. oligodon\"': '\"Messinian\"\\n',\n",
       " '\"Tursiops n. sp. osennae\"': '\"Calabrian\"\\n',\n",
       " '\"Tursiops truncatus\"': '\"Holocene\"\\n',\n",
       " '\"Tursiops tursio\"': '\"Early Pleistocene\"\\n',\n",
       " '\"cf. Delphinus uncidens\"': '\"Serravallian\"\\n',\n",
       " '\"cf. Orcinus orca\"': '\"Holocene\"\\n',\n",
       " '\"n. gen. Arimidelphis n. sp. sorbinii\"': '\"Piacenzian\"\\n',\n",
       " '\"n. gen. Astadelphis gastaldii\"': '\"Piacenzian\"\\n',\n",
       " '\"n. gen. Australodelphis n. sp. mirus\"': '\"Zanclean\"\\n',\n",
       " '\"n. gen. Etruridelphis giulii\"': '\"Zanclean\"\\n',\n",
       " '\"n. gen. Hemisyntrachelus n. sp. cortesii\"': '\"Pliocene\"\\n',\n",
       " '\"n. gen. Platalearostrum n. sp. hoekmani\"': '\"Late Pliocene\"\\n',\n",
       " '\"n. gen. Protoglobicephala n. sp. mexicana\"': '\"Piacenzian\"\\n',\n",
       " '\"n. gen. Septidelphis n. sp. morii\"': '\"Zanclean\"\\n'}"
      ]
     },
     "execution_count": 10,
     "metadata": {},
     "output_type": "execute_result"
    }
   ],
   "source": [
    "make_dolphin_dictionary(\"dolphin_data_of_interest_2.csv\")"
   ]
  },
  {
   "cell_type": "code",
   "execution_count": null,
   "metadata": {
    "collapsed": true
   },
   "outputs": [],
   "source": []
  }
 ],
 "metadata": {
  "anaconda-cloud": {},
  "kernelspec": {
   "display_name": "Python [conda root]",
   "language": "python",
   "name": "conda-root-py"
  },
  "language_info": {
   "codemirror_mode": {
    "name": "ipython",
    "version": 3
   },
   "file_extension": ".py",
   "mimetype": "text/x-python",
   "name": "python",
   "nbconvert_exporter": "python",
   "pygments_lexer": "ipython3",
   "version": "3.5.2"
  }
 },
 "nbformat": 4,
 "nbformat_minor": 2
}
