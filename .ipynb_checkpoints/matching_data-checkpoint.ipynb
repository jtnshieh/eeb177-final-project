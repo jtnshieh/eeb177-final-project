{
 "cells": [
  {
   "cell_type": "code",
   "execution_count": 50,
   "metadata": {
    "collapsed": false
   },
   "outputs": [],
   "source": [
    "infile = \"reformatted_cetacea_pbdb_data.csv\"\n",
    "with open(infile, \"r\") as species_records:\n",
    "    trial = species_records.readlines()[2:]\n",
    "\n",
    "output = open(\"pyrate_data_2.csv\",\"w\")\n",
    "for line in trial:\n",
    "    name = line.split('\",\"')[5]\n",
    "    genus = name.split(\" \")[0]\n",
    "    species = name.split(\" \")[1]\n",
    "    \n",
    "    outline = \"{},{}\\n\".format(genus, species)\n",
    "    output.write(outline)\n",
    "    #print(outline)\n",
    "output.close()"
   ]
  },
  {
   "cell_type": "code",
   "execution_count": 80,
   "metadata": {
    "collapsed": false
   },
   "outputs": [],
   "source": [
    "import csv\n",
    "\n",
    "data = open(\"pyrate_data.csv\",\"r\")\n",
    "reader = csv.reader(data)\n",
    "list1 = list(reader)\n",
    "\n",
    "data2 = open(\"pyrate_data_2.csv\",\"r\")\n",
    "reader2 = csv.reader(data2)\n",
    "list2 = list(reader2)\n",
    "\n",
    "list3 = []\n",
    "\n",
    "overlapping_species = open(\"overlapping_species.csv\",\"w\")\n",
    "\n",
    "for item in list1:\n",
    "    if item in list2:\n",
    "        list3.append(item)\n",
    "        #overlapping_species.write(\"%s\\n\" %(item))\n",
    "with overlapping_species as output:\n",
    "    writer = csv.writer(output, lineterminator='\\n')\n",
    "    writer.writerows(list3)\n",
    "    \n",
    "data.close()\n",
    "data2.close()\n",
    "overlapping_species.close()"
   ]
  },
  {
   "cell_type": "code",
   "execution_count": null,
   "metadata": {
    "collapsed": false
   },
   "outputs": [],
   "source": []
  },
  {
   "cell_type": "code",
   "execution_count": null,
   "metadata": {
    "collapsed": true
   },
   "outputs": [],
   "source": []
  },
  {
   "cell_type": "code",
   "execution_count": null,
   "metadata": {
    "collapsed": true
   },
   "outputs": [],
   "source": []
  },
  {
   "cell_type": "code",
   "execution_count": null,
   "metadata": {
    "collapsed": false
   },
   "outputs": [],
   "source": []
  },
  {
   "cell_type": "code",
   "execution_count": 19,
   "metadata": {
    "collapsed": false
   },
   "outputs": [],
   "source": []
  },
  {
   "cell_type": "code",
   "execution_count": null,
   "metadata": {
    "collapsed": true
   },
   "outputs": [],
   "source": []
  }
 ],
 "metadata": {
  "anaconda-cloud": {},
  "kernelspec": {
   "display_name": "Python [conda root]",
   "language": "python",
   "name": "conda-root-py"
  },
  "language_info": {
   "codemirror_mode": {
    "name": "ipython",
    "version": 3
   },
   "file_extension": ".py",
   "mimetype": "text/x-python",
   "name": "python",
   "nbconvert_exporter": "python",
   "pygments_lexer": "ipython3",
   "version": "3.5.2"
  }
 },
 "nbformat": 4,
 "nbformat_minor": 2
}
